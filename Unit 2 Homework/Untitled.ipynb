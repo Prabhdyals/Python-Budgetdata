{
 "cells": [
  {
   "cell_type": "code",
   "execution_count": 26,
   "id": "66a6a8e7-263f-40ee-87ff-6505ecd84c54",
   "metadata": {},
   "outputs": [],
   "source": [
    "import csv\n",
    "csvpath = Path('../Unit 2 Homework/budget_data.csv')"
   ]
  },
  {
   "cell_type": "code",
   "execution_count": 184,
   "id": "1f287433-ad71-4e6c-87d7-8f5029764cb5",
   "metadata": {},
   "outputs": [
    {
     "ename": "SyntaxError",
     "evalue": "unmatched ')' (Temp/ipykernel_14044/283997327.py, line 52)",
     "output_type": "error",
     "traceback": [
      "\u001b[1;36m  File \u001b[1;32m\"C:\\Users\\prabh\\AppData\\Local\\Temp/ipykernel_14044/283997327.py\"\u001b[1;36m, line \u001b[1;32m52\u001b[0m\n\u001b[1;33m    Tpnl[6]-Tpnl[7])+(Tpnl[7]-Tpnl[8])+(Tpnl[8]-Tpnl[9])+(Tpnl[9]-Tpnl[10])+(Tpnl[10]-Tpnl[11])+(Tpnl[11]-Tpnl[12]))/total_months,2)\u001b[0m\n\u001b[1;37m                                                                                                                                   ^\u001b[0m\n\u001b[1;31mSyntaxError\u001b[0m\u001b[1;31m:\u001b[0m unmatched ')'\n"
     ]
    }
   ],
   "source": [
    "Tpnl =[]\n",
    "line_num = 0\n",
    "with open(csvpath,\"r\") as csvfile:\n",
    "    csvreader = csv.reader(csvfile, delimiter=',')\n",
    "    header = next(csvreader)\n",
    "    line_num += 1\n",
    "    print(f'{header}<---------Header')\n",
    "    \n",
    "    for row in csvreader:\n",
    "        pnl = int(row[1])\n",
    "        Tpnl.append(pnl)    \n",
    "    print(Tpnl)\n",
    "\n",
    "total_months = 0\n",
    "total_amount = 0\n",
    "average = 0\n",
    "#minimum_key = \"\"\n",
    "minimum = 0\n",
    "\n",
    "\n",
    "\n",
    "# Initialize maximum key-value pair\n",
    "#maximum_key = \"\"\n",
    "maximum = 0\n",
    "\n",
    "    # Logic to determine min value and associated key\n",
    "#if minimum_value == 0:\n",
    "#    minimum_value = value\n",
    "#    minimum_key = key\n",
    "#elif value < minimum_value:\n",
    "#    minimum_value = value\n",
    "#    minimum_key = key\n",
    "\n",
    "    # Logic to determine max value and associated key\n",
    "#elif value > maximum_value:\n",
    "#    maximum_value = value\n",
    "#    maximum_key = key\n",
    "\n",
    "for pnl in Tpnl:\n",
    "    total_amount += pnl\n",
    "    total_months += 1\n",
    "    \n",
    "    if minimum == 0:\n",
    "        minimum = pnl\n",
    "    elif pnl < minimum:\n",
    "        minimum = pnl\n",
    "    elif pnl > maximum:\n",
    "        maximum = pnl\n",
    "\n",
    "\n",
    "average = round(/total_months,2)\n",
    "        \n",
    "print (f\"Total Months: {total_months}\")\n",
    "print (f\"Net Total Amount: {total_amount}\")\n",
    "print (f\"Average  Change: {average}\")\n",
    "print (f\"Greatest Increase {maximum}\")\n",
    "print (f\"Greatest decrease {minimum}\")"
   ]
  },
  {
   "cell_type": "code",
   "execution_count": 76,
   "id": "22e7c2f8-716f-45b7-b30b-e5c91f44836e",
   "metadata": {},
   "outputs": [
    {
     "ename": "NameError",
     "evalue": "name 'count' is not defined",
     "output_type": "error",
     "traceback": [
      "\u001b[1;31m---------------------------------------------------------------------------\u001b[0m",
      "\u001b[1;31mNameError\u001b[0m                                 Traceback (most recent call last)",
      "\u001b[1;32m~\\AppData\\Local\\Temp/ipykernel_14044/3690985407.py\u001b[0m in \u001b[0;36m<module>\u001b[1;34m\u001b[0m\n\u001b[1;32m----> 1\u001b[1;33m \u001b[0mtotal_months\u001b[0m \u001b[1;33m+=\u001b[0m \u001b[0mcount\u001b[0m\u001b[1;33m\u001b[0m\u001b[1;33m\u001b[0m\u001b[0m\n\u001b[0m",
      "\u001b[1;31mNameError\u001b[0m: name 'count' is not defined"
     ]
    }
   ],
   "source": []
  },
  {
   "cell_type": "code",
   "execution_count": 78,
   "id": "7b77ddb3-5005-4ecf-b45b-53b2a81a62a4",
   "metadata": {},
   "outputs": [
    {
     "name": "stdout",
     "output_type": "stream",
     "text": [
      "Total Months: 0\n"
     ]
    },
    {
     "ename": "NameError",
     "evalue": "name 'total_amount' is not defined",
     "output_type": "error",
     "traceback": [
      "\u001b[1;31m---------------------------------------------------------------------------\u001b[0m",
      "\u001b[1;31mNameError\u001b[0m                                 Traceback (most recent call last)",
      "\u001b[1;32m~\\AppData\\Local\\Temp/ipykernel_14044/2382608404.py\u001b[0m in \u001b[0;36m<module>\u001b[1;34m\u001b[0m\n\u001b[0;32m      1\u001b[0m \u001b[0mprint\u001b[0m \u001b[1;33m(\u001b[0m\u001b[1;34mf\"Total Months: {total_months}\"\u001b[0m\u001b[1;33m)\u001b[0m\u001b[1;33m\u001b[0m\u001b[1;33m\u001b[0m\u001b[0m\n\u001b[1;32m----> 2\u001b[1;33m \u001b[0mprint\u001b[0m \u001b[1;33m(\u001b[0m\u001b[1;34mf\"Net Total Amount: {total_amount}\"\u001b[0m\u001b[1;33m)\u001b[0m\u001b[1;33m\u001b[0m\u001b[1;33m\u001b[0m\u001b[0m\n\u001b[0m",
      "\u001b[1;31mNameError\u001b[0m: name 'total_amount' is not defined"
     ]
    }
   ],
   "source": [
    "print (f\"Total Months: {total_months}\")\n",
    "print (f\"Net Total Amount: {total_amount}\")"
   ]
  },
  {
   "cell_type": "code",
   "execution_count": 26,
   "id": "94d9e8c6-5e22-4f11-91b2-10e1fd59d907",
   "metadata": {},
   "outputs": [],
   "source": [
    "Your task is to create a Python script that analyzes the records to calculate each of the following:\n",
    "\n",
    "* The total number of months included in the dataset.\n",
    "\n",
    "* The net total amount of Profit/Losses over the entire period.\n",
    "\n",
    "* The average of the changes in Profit/Losses over the entire period.\n",
    "\n",
    "* The greatest increase in profits (date and amount) over the entire period.\n",
    "\n",
    "* The greatest decrease in losses (date and amount) over the entire period.\n",
    "\n",
    "Your resulting analysis should look similar to the following:\n",
    "\n",
    "  ```text\n",
    "  Financial Analysis\n",
    "  ----------------------------\n",
    "  Total Months: 86\n",
    "  Total: $38382578\n",
    "  Average  Change: $-2315.12\n",
    "  Greatest Increase in Profits: Feb-2012 ($1926159)\n",
    "  Greatest Decrease in Profits: Sep-2013 ($-2196167)\n",
    "  ```\n",
    "\n"
   ]
  }
 ],
 "metadata": {
  "kernelspec": {
   "display_name": "Python 3 (ipykernel)",
   "language": "python",
   "name": "python3"
  },
  "language_info": {
   "codemirror_mode": {
    "name": "ipython",
    "version": 3
   },
   "file_extension": ".py",
   "mimetype": "text/x-python",
   "name": "python",
   "nbconvert_exporter": "python",
   "pygments_lexer": "ipython3",
   "version": "3.8.8"
  }
 },
 "nbformat": 4,
 "nbformat_minor": 5
}
