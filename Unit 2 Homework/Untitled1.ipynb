{
 "cells": [
  {
   "cell_type": "code",
   "execution_count": 43,
   "id": "1d8a522c-672f-4c3f-ab2c-73ea47f03211",
   "metadata": {},
   "outputs": [
    {
     "ename": "SyntaxError",
     "evalue": "invalid syntax (Temp/ipykernel_18156/1533436970.py, line 8)",
     "output_type": "error",
     "traceback": [
      "\u001b[1;36m  File \u001b[1;32m\"C:\\Users\\prabh\\AppData\\Local\\Temp/ipykernel_18156/1533436970.py\"\u001b[1;36m, line \u001b[1;32m8\u001b[0m\n\u001b[1;33m    print(df'[[Name', 'Type 1', 'HP']])\u001b[0m\n\u001b[1;37m            ^\u001b[0m\n\u001b[1;31mSyntaxError\u001b[0m\u001b[1;31m:\u001b[0m invalid syntax\n"
     ]
    }
   ],
   "source": [
    "import pandas as pd\n",
    "df = pd.read_scv('pokemon_datd.csv')\n",
    "df_xslsx = pd.read_excel(\"pokemon_data.xslx\")\n",
    "\n",
    "df = pd.read_csv('pokemon_data.txt', delimiter='\\t')\n",
    "print(df.head(5))\n",
    "print(df.columns)\n",
    "print(df'[[Name', 'Type 1', 'HP']])\n",
    "print(df.iloc[0:4])\n",
    "print(df.iloc[2,])\n",
    "\n",
    "fron index, row in df.itterows90:\n",
    "    PRINT(INDEX, ROW['NAME'])\n",
    "DF.LOC[DF['tYPE 1'] == 'FIRE']\n",
    "df.describe()\n",
    "df.sort_values('Name', ascending = [1,0])\n",
    "df.sort_value()\n",
    "df.head(5)\n",
    "df['Total'] = df['hp]'  \n",
    "df.drop(columns=['total'])\n",
    "df.['Total'] = df.iloc[:, 4:10].sum(axis = 1)\n",
    "df[['Total ', 'Hp', 'Defense']]\n",
    "df.head(5)\n",
    "cols = list(df.columns.values)\n",
    "cols = list(df.columns)\n",
    "df.head[5]     \n",
    "df.to_csv('modified')\n",
    "df.to.excel('modefied.xslx', index=False)\n",
    "df.to_csv('modified.txt', index = False)\n",
    "df.loc[df'Type1' == 'Grass']\n",
    "new_df = df.loc[(df['Type 1' ])]\n",
    "new_df.resetindex()\n",
    "new_df.reset_index\n",
    "df.loc['Name'].str.contains[mega] \n",
    "import re\n",
    "df.loc[df['Name']] \n",
    "df.loac[df['Type1'].str.contains('pi[a-z]*', flags)]\n",
    "df.oc[df['Type1']] == 'fire, 'Type 1'] = 'fire' = True \n",
    "df = pd.read_csv('modifies.csv')\n",
    "df.loc[df['total]']> 500, ['generateion','legendary']]=['test 1', 'test 2' ]\n",
    "df = pd.read_scv('modified'.csv)\n",
    "df.groupby(['Type 1 ']).mean(\n",
    "df.groupby([]'Type 1']).men\n",
    "df. groupby?(['Type 1']).mean().sort_values('HP', ascending= Fales)\n",
    "df.groupby(['Type 1', 'Type 2']).count()['count']\n",
    "pd.read_s\n",
    "for df in pd.read_csv('modifies.csv', chunks)"
   ]
  },
  {
   "cell_type": "code",
   "execution_count": 38,
   "id": "8d9ab838-a3f9-461d-bf09-1aa8ccb06380",
   "metadata": {},
   "outputs": [
    {
     "ename": "NameError",
     "evalue": "name 'Path' is not defined",
     "output_type": "error",
     "traceback": [
      "\u001b[1;31m---------------------------------------------------------------------------\u001b[0m",
      "\u001b[1;31mNameError\u001b[0m                                 Traceback (most recent call last)",
      "\u001b[1;32m~\\AppData\\Local\\Temp/ipykernel_18156/3836713134.py\u001b[0m in \u001b[0;36m<module>\u001b[1;34m\u001b[0m\n\u001b[0;32m      1\u001b[0m \u001b[1;32mimport\u001b[0m \u001b[0mcsv\u001b[0m\u001b[1;33m\u001b[0m\u001b[1;33m\u001b[0m\u001b[0m\n\u001b[1;32m----> 2\u001b[1;33m \u001b[0mcsvpath\u001b[0m \u001b[1;33m=\u001b[0m \u001b[0mPath\u001b[0m\u001b[1;33m(\u001b[0m\u001b[1;34m'..Unit 2 Homework/budget_data.csv'\u001b[0m\u001b[1;33m)\u001b[0m\u001b[1;33m\u001b[0m\u001b[1;33m\u001b[0m\u001b[0m\n\u001b[0m\u001b[0;32m      3\u001b[0m \u001b[0mTpnl\u001b[0m \u001b[1;33m=\u001b[0m\u001b[1;33m[\u001b[0m\u001b[1;33m]\u001b[0m\u001b[1;33m\u001b[0m\u001b[1;33m\u001b[0m\u001b[0m\n\u001b[0;32m      4\u001b[0m \u001b[0mline_num\u001b[0m \u001b[1;33m=\u001b[0m \u001b[1;36m0\u001b[0m\u001b[1;33m\u001b[0m\u001b[1;33m\u001b[0m\u001b[0m\n\u001b[0;32m      5\u001b[0m \u001b[1;32mwith\u001b[0m \u001b[0mopen\u001b[0m\u001b[1;33m(\u001b[0m\u001b[0mcsvpath\u001b[0m\u001b[1;33m,\u001b[0m\u001b[1;34m\"r\"\u001b[0m\u001b[1;33m)\u001b[0m \u001b[1;32mas\u001b[0m \u001b[0mcsvfile\u001b[0m\u001b[1;33m:\u001b[0m\u001b[1;33m\u001b[0m\u001b[1;33m\u001b[0m\u001b[0m\n",
      "\u001b[1;31mNameError\u001b[0m: name 'Path' is not defined"
     ]
    }
   ],
   "source": [
    "Tpnl =[]\n",
    "line_num = 0\n",
    "with open(csvpath,\"r\") as csvfile:\n",
    "    csvreader = csv.reader(csvfile, delimiter=',')\n",
    "    header = next(csvreader)\n",
    "    line_num += 1\n",
    "    print(f'{header}<---------Header')\n",
    "    \n",
    "    for row in csvreader:\n",
    "        print(row)\n",
    "        pnl = int(row[1])\n",
    "        Tpnl.append(pnl)    \n",
    "    print(Tpnl)\n",
    "        \n",
    "    month = str(row[0])\n",
    "    mpnl.append(month) \n",
    "    print(mpnl)  \n",
    "    "
   ]
  },
  {
   "cell_type": "code",
   "execution_count": null,
   "id": "d67fe660-f443-4d0e-8393-9376624c5a1b",
   "metadata": {},
   "outputs": [],
   "source": []
  }
 ],
 "metadata": {
  "kernelspec": {
   "display_name": "Python 3 (ipykernel)",
   "language": "python",
   "name": "python3"
  },
  "language_info": {
   "codemirror_mode": {
    "name": "ipython",
    "version": 3
   },
   "file_extension": ".py",
   "mimetype": "text/x-python",
   "name": "python",
   "nbconvert_exporter": "python",
   "pygments_lexer": "ipython3",
   "version": "3.8.8"
  }
 },
 "nbformat": 4,
 "nbformat_minor": 5
}
