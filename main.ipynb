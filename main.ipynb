{
 "cells": [
  {
   "cell_type": "code",
   "execution_count": 6,
   "id": "1f287433-ad71-4e6c-87d7-8f5029764cb5",
   "metadata": {},
   "outputs": [
    {
     "name": "stdout",
     "output_type": "stream",
     "text": [
      "['Date', 'Profit/Losses']<---------Header\n",
      "Total Months: 86\n",
      "Net Total Amount: 38382578\n",
      "Average  Change: 6196.15\n",
      "Greatest Increase 1926159\n",
      "Greatest decrease -2196167\n"
     ]
    }
   ],
   "source": [
    "from pathlib import Path\n",
    "import csv\n",
    "csvpath = Path('../Unit 2 Homework/budget_data.csv')\n",
    "Tpnl =[]\n",
    "line_num = 0\n",
    "lag = 0\n",
    "total_months = 0\n",
    "total_amount = 0\n",
    "dif = 0\n",
    "minimum = 0\n",
    "maximum = 0\n",
    "with open(csvpath,\"r\") as csvfile:\n",
    "    csvreader = csv.reader(csvfile, delimiter=',')\n",
    "    header = next(csvreader)\n",
    "    line_num += 1\n",
    "    print(f'{header}<---------Header')\n",
    "    \n",
    "    for row in csvreader:\n",
    "        pnl = int(row[1])\n",
    "        Tpnl.append(pnl)    \n",
    "        dif = pnl - lag\n",
    "        lag = pnl\n",
    "        total_amount += pnl\n",
    "        total_months += 1\n",
    "        if minimum == 0:\n",
    "            minimum = dif\n",
    "        if dif < minimum:\n",
    "            minimum = dif\n",
    "        if dif > maximum:\n",
    "            maximum = dif\n",
    "average = round(dif/total_months, 2)\n",
    "\n",
    "print (f\"Total Months: {total_months}\")\n",
    "print (f\"Net Total Amount: {total_amount}\")\n",
    "print (f\"Average  Change: {average}\")\n",
    "print (f\"Greatest Increase {maximum}\")\n",
    "print (f\"Greatest decrease {minimum}\")"
   ]
  },
  {
   "cell_type": "markdown",
   "id": "1783a9e1-e6a4-4494-a6f7-345327ed28b4",
   "metadata": {},
   "source": [
    "\n",
    "\n",
    "\n",
    "\n"
   ]
  },
  {
   "cell_type": "code",
   "execution_count": null,
   "id": "bad6e0be-ad79-49b1-b927-562dea1458fa",
   "metadata": {},
   "outputs": [],
   "source": []
  }
 ],
 "metadata": {
  "kernelspec": {
   "display_name": "Python 3 (ipykernel)",
   "language": "python",
   "name": "python3"
  },
  "language_info": {
   "codemirror_mode": {
    "name": "ipython",
    "version": 3
   },
   "file_extension": ".py",
   "mimetype": "text/x-python",
   "name": "python",
   "nbconvert_exporter": "python",
   "pygments_lexer": "ipython3",
   "version": "3.7.11"
  }
 },
 "nbformat": 4,
 "nbformat_minor": 5
}
